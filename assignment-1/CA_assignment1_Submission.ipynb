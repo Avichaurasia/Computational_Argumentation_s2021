{
 "cells": [
  {
   "cell_type": "code",
   "execution_count": 1,
   "metadata": {},
   "outputs": [
    {
     "name": "stderr",
     "output_type": "stream",
     "text": [
      "[nltk_data] Downloading package punkt to\n",
      "[nltk_data]     /Users/avinashkumarchaurasia/nltk_data...\n",
      "[nltk_data]   Package punkt is already up-to-date!\n"
     ]
    },
    {
     "data": {
      "text/plain": [
       "True"
      ]
     },
     "execution_count": 1,
     "metadata": {},
     "output_type": "execute_result"
    }
   ],
   "source": [
    "import pandas as pd\n",
    "import matplotlib.pyplot as plt\n",
    "%matplotlib inline\n",
    "import warnings\n",
    "warnings.filterwarnings('ignore')\n",
    "import numpy as np\n",
    "import nltk\n",
    "nltk.download('punkt')\n",
    "\n"
   ]
  },
  {
   "cell_type": "markdown",
   "metadata": {},
   "source": [
    "## Loading JSON file"
   ]
  },
  {
   "cell_type": "code",
   "execution_count": 2,
   "metadata": {},
   "outputs": [],
   "source": [
    "Data=pd.read_json('data.json')"
   ]
  },
  {
   "cell_type": "code",
   "execution_count": null,
   "metadata": {},
   "outputs": [],
   "source": []
  },
  {
   "cell_type": "code",
   "execution_count": 3,
   "metadata": {},
   "outputs": [
    {
     "data": {
      "text/html": [
       "<div>\n",
       "<style scoped>\n",
       "    .dataframe tbody tr th:only-of-type {\n",
       "        vertical-align: middle;\n",
       "    }\n",
       "\n",
       "    .dataframe tbody tr th {\n",
       "        vertical-align: top;\n",
       "    }\n",
       "\n",
       "    .dataframe thead th {\n",
       "        text-align: right;\n",
       "    }\n",
       "</style>\n",
       "<table border=\"1\" class=\"dataframe\">\n",
       "  <thead>\n",
       "    <tr style=\"text-align: right;\">\n",
       "      <th></th>\n",
       "      <th>topic</th>\n",
       "      <th>category</th>\n",
       "      <th>pro_arguments</th>\n",
       "      <th>con_arguments</th>\n",
       "    </tr>\n",
       "  </thead>\n",
       "  <tbody>\n",
       "    <tr>\n",
       "      <th>0</th>\n",
       "      <td>Kirk will always be better than Picard!</td>\n",
       "      <td>TV</td>\n",
       "      <td>[{'Sex   &amp; The Motion Picture': 'Redshirtsalwa...</td>\n",
       "      <td>[{'Buy Adderall Online': 'Buy Adderall Online ...</td>\n",
       "    </tr>\n",
       "    <tr>\n",
       "      <th>1</th>\n",
       "      <td>Is LGBTQ+ wrong?</td>\n",
       "      <td>Society</td>\n",
       "      <td>[{'LGBTQ+ is Homosexuality and the Bible says ...</td>\n",
       "      <td>[{'No being LGBTQIA+ is not wrong': 'Lets divi...</td>\n",
       "    </tr>\n",
       "    <tr>\n",
       "      <th>2</th>\n",
       "      <td>Do you agree with the Derek Chauvin   guilty v...</td>\n",
       "      <td>Politics</td>\n",
       "      <td>[{'Mauvin murdered Floyd.': 'If you punch an o...</td>\n",
       "      <td>[{'No. The decision was made under threat of r...</td>\n",
       "    </tr>\n",
       "    <tr>\n",
       "      <th>3</th>\n",
       "      <td>We should Institute a death penalty for homoph...</td>\n",
       "      <td>Politics</td>\n",
       "      <td>[{'I hate gays': 'The homosexual and it’s cons...</td>\n",
       "      <td>[{'A death penalty can only be justified if th...</td>\n",
       "    </tr>\n",
       "    <tr>\n",
       "      <th>4</th>\n",
       "      <td>Do you agree with the Black Lives Matter Movem...</td>\n",
       "      <td>Society</td>\n",
       "      <td>[{'BLM or if not you are racist.': 'Isuport it...</td>\n",
       "      <td>[{'All Normal Human Lives Matter, That include...</td>\n",
       "    </tr>\n",
       "  </tbody>\n",
       "</table>\n",
       "</div>"
      ],
      "text/plain": [
       "                                               topic  category  \\\n",
       "0            Kirk will always be better than Picard!        TV   \n",
       "1                                   Is LGBTQ+ wrong?   Society   \n",
       "2  Do you agree with the Derek Chauvin   guilty v...  Politics   \n",
       "3  We should Institute a death penalty for homoph...  Politics   \n",
       "4  Do you agree with the Black Lives Matter Movem...   Society   \n",
       "\n",
       "                                       pro_arguments  \\\n",
       "0  [{'Sex   & The Motion Picture': 'Redshirtsalwa...   \n",
       "1  [{'LGBTQ+ is Homosexuality and the Bible says ...   \n",
       "2  [{'Mauvin murdered Floyd.': 'If you punch an o...   \n",
       "3  [{'I hate gays': 'The homosexual and it’s cons...   \n",
       "4  [{'BLM or if not you are racist.': 'Isuport it...   \n",
       "\n",
       "                                       con_arguments  \n",
       "0  [{'Buy Adderall Online': 'Buy Adderall Online ...  \n",
       "1  [{'No being LGBTQIA+ is not wrong': 'Lets divi...  \n",
       "2  [{'No. The decision was made under threat of r...  \n",
       "3  [{'A death penalty can only be justified if th...  \n",
       "4  [{'All Normal Human Lives Matter, That include...  "
      ]
     },
     "execution_count": 3,
     "metadata": {},
     "output_type": "execute_result"
    }
   ],
   "source": [
    "Data"
   ]
  },
  {
   "cell_type": "code",
   "execution_count": 4,
   "metadata": {},
   "outputs": [],
   "source": [
    "Data['Total arguments Per Token']=\"\"\n",
    "#Data.loc[0,'topic']"
   ]
  },
  {
   "cell_type": "markdown",
   "metadata": {},
   "source": [
    "## Adding column for length of arguments(as per tokens)"
   ]
  },
  {
   "cell_type": "code",
   "execution_count": 5,
   "metadata": {},
   "outputs": [],
   "source": [
    "list1=[]\n",
    "new_list=[]\n",
    "#a=list(Data['pro_arguments'][4][0].values())[4]\n",
    "#index=0\n",
    "\n",
    "Pro_list=Data['pro_arguments'].tolist()\n",
    "con_list=Data['con_arguments'].tolist()\n",
    "\n",
    "for Pro_argument,Con_argument in zip(Pro_list,con_list):\n",
    "    Pro_new=list(Pro_argument[0].values())\n",
    "    Pro_list=[len(nltk.word_tokenize(x)) for x in Pro_new]\n",
    "    \n",
    "    \n",
    "    Con_new=list(Con_argument[0].values())\n",
    "    Con_list=[len(nltk.word_tokenize(x)) for x in Con_new]\n",
    "    New_list=Pro_list+Con_list\n",
    "    \n",
    "    #print(type(New_list))\n",
    "    #Data.loc[index,'Total arguments']=nNew_list\n",
    "    list1.append(New_list)\n",
    "    #display(Pro_argument)\n",
    "    \n",
    "#New_list=[len(nltk.word_tokenize(x)) for x in list1]\n",
    "#display(New_list)\n",
    "Data['Total arguments Per Token']=list1\n",
    "#Data['Total arguments'][3]\n",
    "\n",
    "\n",
    "#Data\n",
    "\n",
    "#print(list1[9])\n",
    "#list1\n",
    "#lis\n",
    "#p=list(lis[4][0].values())\n",
    "#[len(c) for c in p]\n",
    "#display(list(lis[4][0].values())[1])\n",
    "#list(lis[4][0].values())[1].split()\n",
    "\n",
    "#for i in list1:\n",
    "#X=np.array(Data['Total arguments Per Token'])\n",
    "#X\n",
    "#plt.hist(X)"
   ]
  },
  {
   "cell_type": "code",
   "execution_count": 6,
   "metadata": {},
   "outputs": [
    {
     "data": {
      "text/html": [
       "<div>\n",
       "<style scoped>\n",
       "    .dataframe tbody tr th:only-of-type {\n",
       "        vertical-align: middle;\n",
       "    }\n",
       "\n",
       "    .dataframe tbody tr th {\n",
       "        vertical-align: top;\n",
       "    }\n",
       "\n",
       "    .dataframe thead th {\n",
       "        text-align: right;\n",
       "    }\n",
       "</style>\n",
       "<table border=\"1\" class=\"dataframe\">\n",
       "  <thead>\n",
       "    <tr style=\"text-align: right;\">\n",
       "      <th></th>\n",
       "      <th>topic</th>\n",
       "      <th>category</th>\n",
       "      <th>pro_arguments</th>\n",
       "      <th>con_arguments</th>\n",
       "      <th>Total arguments Per Token</th>\n",
       "    </tr>\n",
       "  </thead>\n",
       "  <tbody>\n",
       "    <tr>\n",
       "      <th>0</th>\n",
       "      <td>Kirk will always be better than Picard!</td>\n",
       "      <td>TV</td>\n",
       "      <td>[{'Sex   &amp; The Motion Picture': 'Redshirtsalwa...</td>\n",
       "      <td>[{'Buy Adderall Online': 'Buy Adderall Online ...</td>\n",
       "      <td>[446, 524, 527, 430, 326, 527, 368, 578, 480, ...</td>\n",
       "    </tr>\n",
       "    <tr>\n",
       "      <th>1</th>\n",
       "      <td>Is LGBTQ+ wrong?</td>\n",
       "      <td>Society</td>\n",
       "      <td>[{'LGBTQ+ is Homosexuality and the Bible says ...</td>\n",
       "      <td>[{'No being LGBTQIA+ is not wrong': 'Lets divi...</td>\n",
       "      <td>[82, 76, 268, 121, 86, 480, 195, 101, 119, 141...</td>\n",
       "    </tr>\n",
       "    <tr>\n",
       "      <th>2</th>\n",
       "      <td>Do you agree with the Derek Chauvin   guilty v...</td>\n",
       "      <td>Politics</td>\n",
       "      <td>[{'Mauvin murdered Floyd.': 'If you punch an o...</td>\n",
       "      <td>[{'No. The decision was made under threat of r...</td>\n",
       "      <td>[109, 79, 63, 0, 65, 89, 199, 0]</td>\n",
       "    </tr>\n",
       "    <tr>\n",
       "      <th>3</th>\n",
       "      <td>We should Institute a death penalty for homoph...</td>\n",
       "      <td>Politics</td>\n",
       "      <td>[{'I hate gays': 'The homosexual and it’s cons...</td>\n",
       "      <td>[{'A death penalty can only be justified if th...</td>\n",
       "      <td>[74, 74, 66, 100, 72, 120, 67, 58, 53, 50, 0, ...</td>\n",
       "    </tr>\n",
       "    <tr>\n",
       "      <th>4</th>\n",
       "      <td>Do you agree with the Black Lives Matter Movem...</td>\n",
       "      <td>Society</td>\n",
       "      <td>[{'BLM or if not you are racist.': 'Isuport it...</td>\n",
       "      <td>[{'All Normal Human Lives Matter, That include...</td>\n",
       "      <td>[61, 326, 97, 102, 447, 138, 145, 65, 61, 89, ...</td>\n",
       "    </tr>\n",
       "  </tbody>\n",
       "</table>\n",
       "</div>"
      ],
      "text/plain": [
       "                                               topic  category  \\\n",
       "0            Kirk will always be better than Picard!        TV   \n",
       "1                                   Is LGBTQ+ wrong?   Society   \n",
       "2  Do you agree with the Derek Chauvin   guilty v...  Politics   \n",
       "3  We should Institute a death penalty for homoph...  Politics   \n",
       "4  Do you agree with the Black Lives Matter Movem...   Society   \n",
       "\n",
       "                                       pro_arguments  \\\n",
       "0  [{'Sex   & The Motion Picture': 'Redshirtsalwa...   \n",
       "1  [{'LGBTQ+ is Homosexuality and the Bible says ...   \n",
       "2  [{'Mauvin murdered Floyd.': 'If you punch an o...   \n",
       "3  [{'I hate gays': 'The homosexual and it’s cons...   \n",
       "4  [{'BLM or if not you are racist.': 'Isuport it...   \n",
       "\n",
       "                                       con_arguments  \\\n",
       "0  [{'Buy Adderall Online': 'Buy Adderall Online ...   \n",
       "1  [{'No being LGBTQIA+ is not wrong': 'Lets divi...   \n",
       "2  [{'No. The decision was made under threat of r...   \n",
       "3  [{'A death penalty can only be justified if th...   \n",
       "4  [{'All Normal Human Lives Matter, That include...   \n",
       "\n",
       "                           Total arguments Per Token  \n",
       "0  [446, 524, 527, 430, 326, 527, 368, 578, 480, ...  \n",
       "1  [82, 76, 268, 121, 86, 480, 195, 101, 119, 141...  \n",
       "2                   [109, 79, 63, 0, 65, 89, 199, 0]  \n",
       "3  [74, 74, 66, 100, 72, 120, 67, 58, 53, 50, 0, ...  \n",
       "4  [61, 326, 97, 102, 447, 138, 145, 65, 61, 89, ...  "
      ]
     },
     "execution_count": 6,
     "metadata": {},
     "output_type": "execute_result"
    }
   ],
   "source": [
    "Data"
   ]
  },
  {
   "cell_type": "code",
   "execution_count": 7,
   "metadata": {},
   "outputs": [
    {
     "data": {
      "image/png": "[encoded data removed]",
      "text/plain": [
       "<Figure size 1440x720 with 1 Axes>"
      ]
     },
     "metadata": {
      "needs_background": "light"
     },
     "output_type": "display_data"
    }
   ],
   "source": [
    "Argument_list=[]\n",
    "new_list=[]\n",
    "#Argument_list=Data['Total arguments Per Token'][0]\n",
    "#Argument_list2=Data['Total arguments Per To\n",
    "index=Data['Total arguments Per Token'].index\n",
    "index\n",
    "for i in range(len(index)):\n",
    "    Argument_list=Data['Total arguments Per Token'][i]\n",
    "    New_list=New_list+Argument_list\n",
    "#max(New_list)\n",
    "\n",
    "\n",
    "fig=plt.figure(figsize=(20,10))\n",
    "plt.hist(New_list,bins=16)\n",
    "\n",
    "plt.xlabel('Length of Arguments (as number of tokens)',fontsize=18)\n",
    "plt.ylabel('Number of Argumemts',fontsize=18)\n",
    "\n",
    "plt.show()"
   ]
  },
  {
   "cell_type": "code",
   "execution_count": 8,
   "metadata": {},
   "outputs": [],
   "source": [
    "a=\"\".join(Data['pro_arguments'][4][0].values())"
   ]
  },
  {
   "cell_type": "markdown",
   "metadata": {},
   "source": [
    "## Adding columns for Number of Pro, Con and Total arguments for each topic"
   ]
  },
  {
   "cell_type": "code",
   "execution_count": 9,
   "metadata": {},
   "outputs": [
    {
     "data": {
      "text/plain": [
       "dict_keys(['BLM or if not you are racist.', 'Only the stupid could disagree', 'I support the Black Lives Matter movement.', 'Of course Black Lives Matter', \"If you don't you are racist or ignorant.\", 'Black Lives Matter', 'Black lives matter.', \"Obviously. Why wouldn't they.\", 'Of course black lives matter', 'Black Lives Do Matter.', 'null'])"
      ]
     },
     "execution_count": 9,
     "metadata": {},
     "output_type": "execute_result"
    }
   ],
   "source": [
    "Data['pro_arguments'][4][0].keys()"
   ]
  },
  {
   "cell_type": "code",
   "execution_count": 10,
   "metadata": {},
   "outputs": [
    {
     "data": {
      "text/plain": [
       "10"
      ]
     },
     "execution_count": 10,
     "metadata": {},
     "output_type": "execute_result"
    }
   ],
   "source": [
    "len(Data['pro_arguments'][4][0].keys())-1"
   ]
  },
  {
   "cell_type": "code",
   "execution_count": 11,
   "metadata": {},
   "outputs": [],
   "source": [
    "Data['Number of Pro Argummets']=Data['pro_arguments'].apply(lambda x:len(x[0].values())-1)"
   ]
  },
  {
   "cell_type": "code",
   "execution_count": 12,
   "metadata": {},
   "outputs": [
    {
     "data": {
      "text/plain": [
       "0    10\n",
       "1    10\n",
       "2     3\n",
       "3    10\n",
       "4    10\n",
       "Name: Number of Pro Argummets, dtype: int64"
      ]
     },
     "execution_count": 12,
     "metadata": {},
     "output_type": "execute_result"
    }
   ],
   "source": [
    "Data['Number of Pro Argummets']"
   ]
  },
  {
   "cell_type": "code",
   "execution_count": 13,
   "metadata": {},
   "outputs": [],
   "source": [
    "Data['Number of Con Argummets']=Data['con_arguments'].apply(lambda x:len(x[0].values())-1)"
   ]
  },
  {
   "cell_type": "code",
   "execution_count": 14,
   "metadata": {},
   "outputs": [
    {
     "data": {
      "text/plain": [
       "0     5\n",
       "1    10\n",
       "2     3\n",
       "3    10\n",
       "4    10\n",
       "Name: Number of Con Argummets, dtype: int64"
      ]
     },
     "execution_count": 14,
     "metadata": {},
     "output_type": "execute_result"
    }
   ],
   "source": [
    "Data['Number of Con Argummets']"
   ]
  },
  {
   "cell_type": "code",
   "execution_count": 15,
   "metadata": {},
   "outputs": [
    {
     "data": {
      "text/html": [
       "<div>\n",
       "<style scoped>\n",
       "    .dataframe tbody tr th:only-of-type {\n",
       "        vertical-align: middle;\n",
       "    }\n",
       "\n",
       "    .dataframe tbody tr th {\n",
       "        vertical-align: top;\n",
       "    }\n",
       "\n",
       "    .dataframe thead th {\n",
       "        text-align: right;\n",
       "    }\n",
       "</style>\n",
       "<table border=\"1\" class=\"dataframe\">\n",
       "  <thead>\n",
       "    <tr style=\"text-align: right;\">\n",
       "      <th></th>\n",
       "      <th>topic</th>\n",
       "      <th>category</th>\n",
       "      <th>pro_arguments</th>\n",
       "      <th>con_arguments</th>\n",
       "      <th>Total arguments Per Token</th>\n",
       "      <th>Number of Pro Argummets</th>\n",
       "      <th>Number of Con Argummets</th>\n",
       "    </tr>\n",
       "  </thead>\n",
       "  <tbody>\n",
       "    <tr>\n",
       "      <th>0</th>\n",
       "      <td>Kirk will always be better than Picard!</td>\n",
       "      <td>TV</td>\n",
       "      <td>[{'Sex   &amp; The Motion Picture': 'Redshirtsalwa...</td>\n",
       "      <td>[{'Buy Adderall Online': 'Buy Adderall Online ...</td>\n",
       "      <td>[446, 524, 527, 430, 326, 527, 368, 578, 480, ...</td>\n",
       "      <td>10</td>\n",
       "      <td>5</td>\n",
       "    </tr>\n",
       "    <tr>\n",
       "      <th>1</th>\n",
       "      <td>Is LGBTQ+ wrong?</td>\n",
       "      <td>Society</td>\n",
       "      <td>[{'LGBTQ+ is Homosexuality and the Bible says ...</td>\n",
       "      <td>[{'No being LGBTQIA+ is not wrong': 'Lets divi...</td>\n",
       "      <td>[82, 76, 268, 121, 86, 480, 195, 101, 119, 141...</td>\n",
       "      <td>10</td>\n",
       "      <td>10</td>\n",
       "    </tr>\n",
       "    <tr>\n",
       "      <th>2</th>\n",
       "      <td>Do you agree with the Derek Chauvin   guilty v...</td>\n",
       "      <td>Politics</td>\n",
       "      <td>[{'Mauvin murdered Floyd.': 'If you punch an o...</td>\n",
       "      <td>[{'No. The decision was made under threat of r...</td>\n",
       "      <td>[109, 79, 63, 0, 65, 89, 199, 0]</td>\n",
       "      <td>3</td>\n",
       "      <td>3</td>\n",
       "    </tr>\n",
       "    <tr>\n",
       "      <th>3</th>\n",
       "      <td>We should Institute a death penalty for homoph...</td>\n",
       "      <td>Politics</td>\n",
       "      <td>[{'I hate gays': 'The homosexual and it’s cons...</td>\n",
       "      <td>[{'A death penalty can only be justified if th...</td>\n",
       "      <td>[74, 74, 66, 100, 72, 120, 67, 58, 53, 50, 0, ...</td>\n",
       "      <td>10</td>\n",
       "      <td>10</td>\n",
       "    </tr>\n",
       "    <tr>\n",
       "      <th>4</th>\n",
       "      <td>Do you agree with the Black Lives Matter Movem...</td>\n",
       "      <td>Society</td>\n",
       "      <td>[{'BLM or if not you are racist.': 'Isuport it...</td>\n",
       "      <td>[{'All Normal Human Lives Matter, That include...</td>\n",
       "      <td>[61, 326, 97, 102, 447, 138, 145, 65, 61, 89, ...</td>\n",
       "      <td>10</td>\n",
       "      <td>10</td>\n",
       "    </tr>\n",
       "  </tbody>\n",
       "</table>\n",
       "</div>"
      ],
      "text/plain": [
       "                                               topic  category  \\\n",
       "0            Kirk will always be better than Picard!        TV   \n",
       "1                                   Is LGBTQ+ wrong?   Society   \n",
       "2  Do you agree with the Derek Chauvin   guilty v...  Politics   \n",
       "3  We should Institute a death penalty for homoph...  Politics   \n",
       "4  Do you agree with the Black Lives Matter Movem...   Society   \n",
       "\n",
       "                                       pro_arguments  \\\n",
       "0  [{'Sex   & The Motion Picture': 'Redshirtsalwa...   \n",
       "1  [{'LGBTQ+ is Homosexuality and the Bible says ...   \n",
       "2  [{'Mauvin murdered Floyd.': 'If you punch an o...   \n",
       "3  [{'I hate gays': 'The homosexual and it’s cons...   \n",
       "4  [{'BLM or if not you are racist.': 'Isuport it...   \n",
       "\n",
       "                                       con_arguments  \\\n",
       "0  [{'Buy Adderall Online': 'Buy Adderall Online ...   \n",
       "1  [{'No being LGBTQIA+ is not wrong': 'Lets divi...   \n",
       "2  [{'No. The decision was made under threat of r...   \n",
       "3  [{'A death penalty can only be justified if th...   \n",
       "4  [{'All Normal Human Lives Matter, That include...   \n",
       "\n",
       "                           Total arguments Per Token  Number of Pro Argummets  \\\n",
       "0  [446, 524, 527, 430, 326, 527, 368, 578, 480, ...                       10   \n",
       "1  [82, 76, 268, 121, 86, 480, 195, 101, 119, 141...                       10   \n",
       "2                   [109, 79, 63, 0, 65, 89, 199, 0]                        3   \n",
       "3  [74, 74, 66, 100, 72, 120, 67, 58, 53, 50, 0, ...                       10   \n",
       "4  [61, 326, 97, 102, 447, 138, 145, 65, 61, 89, ...                       10   \n",
       "\n",
       "   Number of Con Argummets  \n",
       "0                        5  \n",
       "1                       10  \n",
       "2                        3  \n",
       "3                       10  \n",
       "4                       10  "
      ]
     },
     "execution_count": 15,
     "metadata": {},
     "output_type": "execute_result"
    }
   ],
   "source": [
    "Data"
   ]
  },
  {
   "cell_type": "code",
   "execution_count": 16,
   "metadata": {},
   "outputs": [
    {
     "data": {
      "text/html": [
       "<div>\n",
       "<style scoped>\n",
       "    .dataframe tbody tr th:only-of-type {\n",
       "        vertical-align: middle;\n",
       "    }\n",
       "\n",
       "    .dataframe tbody tr th {\n",
       "        vertical-align: top;\n",
       "    }\n",
       "\n",
       "    .dataframe thead th {\n",
       "        text-align: right;\n",
       "    }\n",
       "</style>\n",
       "<table border=\"1\" class=\"dataframe\">\n",
       "  <thead>\n",
       "    <tr style=\"text-align: right;\">\n",
       "      <th></th>\n",
       "      <th>topic</th>\n",
       "      <th>category</th>\n",
       "      <th>pro_arguments</th>\n",
       "      <th>con_arguments</th>\n",
       "      <th>Total arguments Per Token</th>\n",
       "      <th>Number of Pro Argummets</th>\n",
       "      <th>Number of Con Argummets</th>\n",
       "      <th>Total Arguments</th>\n",
       "    </tr>\n",
       "  </thead>\n",
       "  <tbody>\n",
       "    <tr>\n",
       "      <th>0</th>\n",
       "      <td>Kirk will always be better than Picard!</td>\n",
       "      <td>TV</td>\n",
       "      <td>[{'Sex   &amp; The Motion Picture': 'Redshirtsalwa...</td>\n",
       "      <td>[{'Buy Adderall Online': 'Buy Adderall Online ...</td>\n",
       "      <td>[446, 524, 527, 430, 326, 527, 368, 578, 480, ...</td>\n",
       "      <td>10</td>\n",
       "      <td>5</td>\n",
       "      <td>15</td>\n",
       "    </tr>\n",
       "    <tr>\n",
       "      <th>1</th>\n",
       "      <td>Is LGBTQ+ wrong?</td>\n",
       "      <td>Society</td>\n",
       "      <td>[{'LGBTQ+ is Homosexuality and the Bible says ...</td>\n",
       "      <td>[{'No being LGBTQIA+ is not wrong': 'Lets divi...</td>\n",
       "      <td>[82, 76, 268, 121, 86, 480, 195, 101, 119, 141...</td>\n",
       "      <td>10</td>\n",
       "      <td>10</td>\n",
       "      <td>20</td>\n",
       "    </tr>\n",
       "    <tr>\n",
       "      <th>2</th>\n",
       "      <td>Do you agree with the Derek Chauvin   guilty v...</td>\n",
       "      <td>Politics</td>\n",
       "      <td>[{'Mauvin murdered Floyd.': 'If you punch an o...</td>\n",
       "      <td>[{'No. The decision was made under threat of r...</td>\n",
       "      <td>[109, 79, 63, 0, 65, 89, 199, 0]</td>\n",
       "      <td>3</td>\n",
       "      <td>3</td>\n",
       "      <td>6</td>\n",
       "    </tr>\n",
       "    <tr>\n",
       "      <th>3</th>\n",
       "      <td>We should Institute a death penalty for homoph...</td>\n",
       "      <td>Politics</td>\n",
       "      <td>[{'I hate gays': 'The homosexual and it’s cons...</td>\n",
       "      <td>[{'A death penalty can only be justified if th...</td>\n",
       "      <td>[74, 74, 66, 100, 72, 120, 67, 58, 53, 50, 0, ...</td>\n",
       "      <td>10</td>\n",
       "      <td>10</td>\n",
       "      <td>20</td>\n",
       "    </tr>\n",
       "    <tr>\n",
       "      <th>4</th>\n",
       "      <td>Do you agree with the Black Lives Matter Movem...</td>\n",
       "      <td>Society</td>\n",
       "      <td>[{'BLM or if not you are racist.': 'Isuport it...</td>\n",
       "      <td>[{'All Normal Human Lives Matter, That include...</td>\n",
       "      <td>[61, 326, 97, 102, 447, 138, 145, 65, 61, 89, ...</td>\n",
       "      <td>10</td>\n",
       "      <td>10</td>\n",
       "      <td>20</td>\n",
       "    </tr>\n",
       "  </tbody>\n",
       "</table>\n",
       "</div>"
      ],
      "text/plain": [
       "                                               topic  category  \\\n",
       "0            Kirk will always be better than Picard!        TV   \n",
       "1                                   Is LGBTQ+ wrong?   Society   \n",
       "2  Do you agree with the Derek Chauvin   guilty v...  Politics   \n",
       "3  We should Institute a death penalty for homoph...  Politics   \n",
       "4  Do you agree with the Black Lives Matter Movem...   Society   \n",
       "\n",
       "                                       pro_arguments  \\\n",
       "0  [{'Sex   & The Motion Picture': 'Redshirtsalwa...   \n",
       "1  [{'LGBTQ+ is Homosexuality and the Bible says ...   \n",
       "2  [{'Mauvin murdered Floyd.': 'If you punch an o...   \n",
       "3  [{'I hate gays': 'The homosexual and it’s cons...   \n",
       "4  [{'BLM or if not you are racist.': 'Isuport it...   \n",
       "\n",
       "                                       con_arguments  \\\n",
       "0  [{'Buy Adderall Online': 'Buy Adderall Online ...   \n",
       "1  [{'No being LGBTQIA+ is not wrong': 'Lets divi...   \n",
       "2  [{'No. The decision was made under threat of r...   \n",
       "3  [{'A death penalty can only be justified if th...   \n",
       "4  [{'All Normal Human Lives Matter, That include...   \n",
       "\n",
       "                           Total arguments Per Token  Number of Pro Argummets  \\\n",
       "0  [446, 524, 527, 430, 326, 527, 368, 578, 480, ...                       10   \n",
       "1  [82, 76, 268, 121, 86, 480, 195, 101, 119, 141...                       10   \n",
       "2                   [109, 79, 63, 0, 65, 89, 199, 0]                        3   \n",
       "3  [74, 74, 66, 100, 72, 120, 67, 58, 53, 50, 0, ...                       10   \n",
       "4  [61, 326, 97, 102, 447, 138, 145, 65, 61, 89, ...                       10   \n",
       "\n",
       "   Number of Con Argummets  Total Arguments  \n",
       "0                        5               15  \n",
       "1                       10               20  \n",
       "2                        3                6  \n",
       "3                       10               20  \n",
       "4                       10               20  "
      ]
     },
     "execution_count": 16,
     "metadata": {},
     "output_type": "execute_result"
    }
   ],
   "source": [
    "Data['Total Arguments']=Data['Number of Pro Argummets']+Data['Number of Con Argummets']\n",
    "Data"
   ]
  },
  {
   "cell_type": "markdown",
   "metadata": {},
   "source": [
    "## Making dataframe for Number of Arguments per category"
   ]
  },
  {
   "cell_type": "code",
   "execution_count": 17,
   "metadata": {},
   "outputs": [],
   "source": [
    "grouped_Data=Data.groupby(\"category\")['Total Arguments'].sum()"
   ]
  },
  {
   "cell_type": "code",
   "execution_count": 18,
   "metadata": {},
   "outputs": [
    {
     "data": {
      "text/plain": [
       "category\n",
       "Politics    26\n",
       "Society     40\n",
       "TV          15\n",
       "Name: Total Arguments, dtype: int64"
      ]
     },
     "execution_count": 18,
     "metadata": {},
     "output_type": "execute_result"
    }
   ],
   "source": [
    "grouped_Data"
   ]
  },
  {
   "cell_type": "markdown",
   "metadata": {},
   "source": [
    "## Plotting length of arguments per category"
   ]
  },
  {
   "cell_type": "code",
   "execution_count": 19,
   "metadata": {},
   "outputs": [
    {
     "data": {
      "image/png": "[encoded data removed]",
      "text/plain": [
       "<Figure size 1080x504 with 1 Axes>"
      ]
     },
     "metadata": {
      "needs_background": "light"
     },
     "output_type": "display_data"
    }
   ],
   "source": [
    "fig, ax = plt.subplots(figsize=(15,7))\n",
    "bp = Data.groupby('category')['Total Arguments'].sum().plot(kind='bar', ax=ax,width=0.40,fontsize=15)\n",
    "ax.set_title('Number of Arguments per category',fontsize=15)\n",
    "ax.set_ylabel('Number of Arguments',fontsize=15)\n",
    "ax.set_xlabel(\"Category\",fontsize=15)\n",
    "plt.show()"
   ]
  },
  {
   "cell_type": "markdown",
   "metadata": {},
   "source": [
    "## Plotting Bar graph for Length of Arguments per topic"
   ]
  },
  {
   "cell_type": "code",
   "execution_count": 20,
   "metadata": {},
   "outputs": [],
   "source": [
    "X=list(Data['topic'])"
   ]
  },
  {
   "cell_type": "code",
   "execution_count": 21,
   "metadata": {},
   "outputs": [
    {
     "data": {
      "image/png": "[encoded data removed]",
      "text/plain": [
       "<Figure size 1800x720 with 1 Axes>"
      ]
     },
     "metadata": {
      "needs_background": "light"
     },
     "output_type": "display_data"
    }
   ],
   "source": [
    "from matplotlib import ticker\n",
    "fig = plt.figure(figsize = (25,10))\n",
    "\n",
    "plt.bar(X,Data['Total Arguments'])\n",
    "\n",
    "plt.xlabel('Topic',fontsize=20)\n",
    "plt.ylabel('Number of Arguments',fontsize=20)\n",
    "plt.title('Bar Graph for arguments per Topic',fontsize=30)\n",
    "\n",
    "plt.xticks([i for i in range(5)],Data['topic'].tolist(),rotation=90,fontsize=14)\n",
    "plt.yticks(fontsize=20)\n",
    "#plt.legend(['T'],fontsize=20,loc='best')\n",
    "plt.show()"
   ]
  },
  {
   "cell_type": "code",
   "execution_count": 22,
   "metadata": {},
   "outputs": [],
   "source": [
    "#name=\"avinash, nash, chaurasia, sdsa;, bkjasxbas (avi)\""
   ]
  },
  {
   "cell_type": "code",
   "execution_count": 23,
   "metadata": {},
   "outputs": [],
   "source": [
    "#tokens=nltk.wordpunct_tokenize(name)\n",
    "#tokens"
   ]
  },
  {
   "cell_type": "code",
   "execution_count": 24,
   "metadata": {},
   "outputs": [],
   "source": [
    "#nltk.download('punkt')\n",
    "#from nltk.tokenize import word_tokenize\n",
    "#tokens=(name)"
   ]
  },
  {
   "cell_type": "code",
   "execution_count": 25,
   "metadata": {},
   "outputs": [],
   "source": [
    "#fig = plt.figure(figsize = (40, 20))\n",
    "#plt.bar(Data['topic'],Data['Number of Con Argummets'],width=0.4)\n",
    "#plt.xlabel('Topic')\n",
    "#plt.ylabel('Number of Con-Arguments')\n",
    "#plt.title('Bar Graph for Con-arguments per Topic')\n",
    "#plt.ax\n",
    "#plt.xticks(Data['topic'],fontsize=15)\n",
    "#plt.tight_layout()\n",
    "#plt.show()"
   ]
  },
  {
   "cell_type": "code",
   "execution_count": null,
   "metadata": {},
   "outputs": [],
   "source": []
  },
  {
   "cell_type": "code",
   "execution_count": null,
   "metadata": {},
   "outputs": [],
   "source": []
  },
  {
   "cell_type": "code",
   "execution_count": null,
   "metadata": {},
   "outputs": [],
   "source": []
  },
  {
   "cell_type": "code",
   "execution_count": null,
   "metadata": {},
   "outputs": [],
   "source": []
  }
 ],
 "metadata": {
  "kernelspec": {
   "display_name": "Python 3",
   "language": "python",
   "name": "python3"
  },
  "language_info": {
   "codemirror_mode": {
    "name": "ipython",
    "version": 3
   },
   "file_extension": ".py",
   "mimetype": "text/x-python",
   "name": "python",
   "nbconvert_exporter": "python",
   "pygments_lexer": "ipython3",
   "version": "3.8.5"
  }
 },
 "nbformat": 4,
 "nbformat_minor": 5
}
