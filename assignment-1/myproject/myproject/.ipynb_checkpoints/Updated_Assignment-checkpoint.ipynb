{
 "cells": [
  {
   "cell_type": "code",
   "execution_count": 1,
   "id": "a345fc39",
   "metadata": {},
   "outputs": [],
   "source": [
    "import pandas as pd\n",
    "import matplotlib.pyplot as plt\n",
    "%matplotlib inline\n",
    "import warnings\n",
    "warnings.filterwarnings('ignore')\n",
    "import numpy as np\n",
    "import nltk\n"
   ]
  },
  {
   "cell_type": "markdown",
   "id": "fb1e9200",
   "metadata": {},
   "source": [
    "## Loading JSON file"
   ]
  },
  {
   "cell_type": "code",
   "execution_count": 2,
   "id": "d0426f3b",
   "metadata": {},
   "outputs": [],
   "source": [
    "Data=pd.read_json('data.json')"
   ]
  },
  {
   "cell_type": "code",
   "execution_count": 3,
   "id": "180d04a6",
   "metadata": {},
   "outputs": [
    {
     "data": {
      "text/html": [
       "<div>\n",
       "<style scoped>\n",
       "    .dataframe tbody tr th:only-of-type {\n",
       "        vertical-align: middle;\n",
       "    }\n",
       "\n",
       "    .dataframe tbody tr th {\n",
       "        vertical-align: top;\n",
       "    }\n",
       "\n",
       "    .dataframe thead th {\n",
       "        text-align: right;\n",
       "    }\n",
       "</style>\n",
       "<table border=\"1\" class=\"dataframe\">\n",
       "  <thead>\n",
       "    <tr style=\"text-align: right;\">\n",
       "      <th></th>\n",
       "      <th>topic</th>\n",
       "      <th>category</th>\n",
       "      <th>pro_arguments</th>\n",
       "      <th>con_arguments</th>\n",
       "    </tr>\n",
       "  </thead>\n",
       "  <tbody>\n",
       "    <tr>\n",
       "      <th>0</th>\n",
       "      <td>Kirk will always be better than Picard!</td>\n",
       "      <td>TV</td>\n",
       "      <td>[{'How Kirk got his Middle Name, &amp; William Tib...</td>\n",
       "      <td>[{'Buy Adderall Online': 'Buy Adderall Online ...</td>\n",
       "    </tr>\n",
       "    <tr>\n",
       "      <th>1</th>\n",
       "      <td>Is LGBTQ+ wrong?</td>\n",
       "      <td>Society</td>\n",
       "      <td>[{'LGBTQ+ is Homosexuality and the Bible says ...</td>\n",
       "      <td>[{'No being LGBTQIA+ is not wrong': 'Lets divi...</td>\n",
       "    </tr>\n",
       "    <tr>\n",
       "      <th>2</th>\n",
       "      <td>Do you agree with the Derek Chauvin   guilty v...</td>\n",
       "      <td>Politics</td>\n",
       "      <td>[{'Mauvin murdered Floyd.': 'If you punch an o...</td>\n",
       "      <td>[{'No. The decision was made under threat of r...</td>\n",
       "    </tr>\n",
       "    <tr>\n",
       "      <th>3</th>\n",
       "      <td>We should Institute a death penalty for homoph...</td>\n",
       "      <td>Politics</td>\n",
       "      <td>[{'I hate gays': 'The homosexual and it’s cons...</td>\n",
       "      <td>[{'A death penalty can only be justified if th...</td>\n",
       "    </tr>\n",
       "    <tr>\n",
       "      <th>4</th>\n",
       "      <td>Do you agree with the Black Lives Matter Movem...</td>\n",
       "      <td>Society</td>\n",
       "      <td>[{'BLM or if not you are racist.': 'Isuport it...</td>\n",
       "      <td>[{'All Normal Human Lives Matter, That include...</td>\n",
       "    </tr>\n",
       "  </tbody>\n",
       "</table>\n",
       "</div>"
      ],
      "text/plain": [
       "                                               topic  category  \\\n",
       "0            Kirk will always be better than Picard!        TV   \n",
       "1                                   Is LGBTQ+ wrong?   Society   \n",
       "2  Do you agree with the Derek Chauvin   guilty v...  Politics   \n",
       "3  We should Institute a death penalty for homoph...  Politics   \n",
       "4  Do you agree with the Black Lives Matter Movem...   Society   \n",
       "\n",
       "                                       pro_arguments  \\\n",
       "0  [{'How Kirk got his Middle Name, & William Tib...   \n",
       "1  [{'LGBTQ+ is Homosexuality and the Bible says ...   \n",
       "2  [{'Mauvin murdered Floyd.': 'If you punch an o...   \n",
       "3  [{'I hate gays': 'The homosexual and it’s cons...   \n",
       "4  [{'BLM or if not you are racist.': 'Isuport it...   \n",
       "\n",
       "                                       con_arguments  \n",
       "0  [{'Buy Adderall Online': 'Buy Adderall Online ...  \n",
       "1  [{'No being LGBTQIA+ is not wrong': 'Lets divi...  \n",
       "2  [{'No. The decision was made under threat of r...  \n",
       "3  [{'A death penalty can only be justified if th...  \n",
       "4  [{'All Normal Human Lives Matter, That include...  "
      ]
     },
     "execution_count": 3,
     "metadata": {},
     "output_type": "execute_result"
    }
   ],
   "source": [
    "Data"
   ]
  },
  {
   "cell_type": "code",
   "execution_count": 4,
   "id": "a921a4bf",
   "metadata": {},
   "outputs": [
    {
     "data": {
      "text/plain": [
       "'I won\\'t bother pointing out the obvious flaws in the \"statistics\" of the other side of the argument. Makassar already did that (seeing a coherent argument on this site was a nice change of pace). However it seems necessary to point out that every flaw pointed out was literally right in front of their face. They clearly aren\\'t reading the articles where they found these statistics. They\\'re not even looking at the entire chart as both the articles and the charts point out everything Makassar said. When you have to blatantly manipulate statistics to support your argument, You are wrong. The only way the other side of the argument has any leg to stand on is if there is no police bias against black people. Yet there are roughly 6 black men in prison for every white man. We\\'re the majority out here but a minority in prison. Anyone who honestly believes that black people commit 6x more crimes than white people is an ignorant racist. Because every study ever done on the matter, Including nazi Germany, Came to the conclusion that all races are breaking the law at more or less the same rate. Speaking of nazi\\'s, They are still a thing in Germany and even they are looking down at us for our racism. Finally if you have to continuously say \"I am not a racist\" then you absolutely are a racist and you\\'re part of the problem. Because you\\'re using that phrase to defend racist statements and you use it over and over and over again. Do you really think no one can see through that? People who aren\\'t racist literally never have to say that phrase because they don\\' t say racist shit in the first place.'"
      ]
     },
     "metadata": {},
     "output_type": "display_data"
    },
    {
     "data": {
      "text/plain": [
       "['I',\n",
       " \"won't\",\n",
       " 'bother',\n",
       " 'pointing',\n",
       " 'out',\n",
       " 'the',\n",
       " 'obvious',\n",
       " 'flaws',\n",
       " 'in',\n",
       " 'the',\n",
       " '\"statistics\"',\n",
       " 'of',\n",
       " 'the',\n",
       " 'other',\n",
       " 'side',\n",
       " 'of',\n",
       " 'the',\n",
       " 'argument.',\n",
       " 'Makassar',\n",
       " 'already',\n",
       " 'did',\n",
       " 'that',\n",
       " '(seeing',\n",
       " 'a',\n",
       " 'coherent',\n",
       " 'argument',\n",
       " 'on',\n",
       " 'this',\n",
       " 'site',\n",
       " 'was',\n",
       " 'a',\n",
       " 'nice',\n",
       " 'change',\n",
       " 'of',\n",
       " 'pace).',\n",
       " 'However',\n",
       " 'it',\n",
       " 'seems',\n",
       " 'necessary',\n",
       " 'to',\n",
       " 'point',\n",
       " 'out',\n",
       " 'that',\n",
       " 'every',\n",
       " 'flaw',\n",
       " 'pointed',\n",
       " 'out',\n",
       " 'was',\n",
       " 'literally',\n",
       " 'right',\n",
       " 'in',\n",
       " 'front',\n",
       " 'of',\n",
       " 'their',\n",
       " 'face.',\n",
       " 'They',\n",
       " 'clearly',\n",
       " \"aren't\",\n",
       " 'reading',\n",
       " 'the',\n",
       " 'articles',\n",
       " 'where',\n",
       " 'they',\n",
       " 'found',\n",
       " 'these',\n",
       " 'statistics.',\n",
       " \"They're\",\n",
       " 'not',\n",
       " 'even',\n",
       " 'looking',\n",
       " 'at',\n",
       " 'the',\n",
       " 'entire',\n",
       " 'chart',\n",
       " 'as',\n",
       " 'both',\n",
       " 'the',\n",
       " 'articles',\n",
       " 'and',\n",
       " 'the',\n",
       " 'charts',\n",
       " 'point',\n",
       " 'out',\n",
       " 'everything',\n",
       " 'Makassar',\n",
       " 'said.',\n",
       " 'When',\n",
       " 'you',\n",
       " 'have',\n",
       " 'to',\n",
       " 'blatantly',\n",
       " 'manipulate',\n",
       " 'statistics',\n",
       " 'to',\n",
       " 'support',\n",
       " 'your',\n",
       " 'argument,',\n",
       " 'You',\n",
       " 'are',\n",
       " 'wrong.',\n",
       " 'The',\n",
       " 'only',\n",
       " 'way',\n",
       " 'the',\n",
       " 'other',\n",
       " 'side',\n",
       " 'of',\n",
       " 'the',\n",
       " 'argument',\n",
       " 'has',\n",
       " 'any',\n",
       " 'leg',\n",
       " 'to',\n",
       " 'stand',\n",
       " 'on',\n",
       " 'is',\n",
       " 'if',\n",
       " 'there',\n",
       " 'is',\n",
       " 'no',\n",
       " 'police',\n",
       " 'bias',\n",
       " 'against',\n",
       " 'black',\n",
       " 'people.',\n",
       " 'Yet',\n",
       " 'there',\n",
       " 'are',\n",
       " 'roughly',\n",
       " '6',\n",
       " 'black',\n",
       " 'men',\n",
       " 'in',\n",
       " 'prison',\n",
       " 'for',\n",
       " 'every',\n",
       " 'white',\n",
       " 'man.',\n",
       " \"We're\",\n",
       " 'the',\n",
       " 'majority',\n",
       " 'out',\n",
       " 'here',\n",
       " 'but',\n",
       " 'a',\n",
       " 'minority',\n",
       " 'in',\n",
       " 'prison.',\n",
       " 'Anyone',\n",
       " 'who',\n",
       " 'honestly',\n",
       " 'believes',\n",
       " 'that',\n",
       " 'black',\n",
       " 'people',\n",
       " 'commit',\n",
       " '6x',\n",
       " 'more',\n",
       " 'crimes',\n",
       " 'than',\n",
       " 'white',\n",
       " 'people',\n",
       " 'is',\n",
       " 'an',\n",
       " 'ignorant',\n",
       " 'racist.',\n",
       " 'Because',\n",
       " 'every',\n",
       " 'study',\n",
       " 'ever',\n",
       " 'done',\n",
       " 'on',\n",
       " 'the',\n",
       " 'matter,',\n",
       " 'Including',\n",
       " 'nazi',\n",
       " 'Germany,',\n",
       " 'Came',\n",
       " 'to',\n",
       " 'the',\n",
       " 'conclusion',\n",
       " 'that',\n",
       " 'all',\n",
       " 'races',\n",
       " 'are',\n",
       " 'breaking',\n",
       " 'the',\n",
       " 'law',\n",
       " 'at',\n",
       " 'more',\n",
       " 'or',\n",
       " 'less',\n",
       " 'the',\n",
       " 'same',\n",
       " 'rate.',\n",
       " 'Speaking',\n",
       " 'of',\n",
       " \"nazi's,\",\n",
       " 'They',\n",
       " 'are',\n",
       " 'still',\n",
       " 'a',\n",
       " 'thing',\n",
       " 'in',\n",
       " 'Germany',\n",
       " 'and',\n",
       " 'even',\n",
       " 'they',\n",
       " 'are',\n",
       " 'looking',\n",
       " 'down',\n",
       " 'at',\n",
       " 'us',\n",
       " 'for',\n",
       " 'our',\n",
       " 'racism.',\n",
       " 'Finally',\n",
       " 'if',\n",
       " 'you',\n",
       " 'have',\n",
       " 'to',\n",
       " 'continuously',\n",
       " 'say',\n",
       " '\"I',\n",
       " 'am',\n",
       " 'not',\n",
       " 'a',\n",
       " 'racist\"',\n",
       " 'then',\n",
       " 'you',\n",
       " 'absolutely',\n",
       " 'are',\n",
       " 'a',\n",
       " 'racist',\n",
       " 'and',\n",
       " \"you're\",\n",
       " 'part',\n",
       " 'of',\n",
       " 'the',\n",
       " 'problem.',\n",
       " 'Because',\n",
       " \"you're\",\n",
       " 'using',\n",
       " 'that',\n",
       " 'phrase',\n",
       " 'to',\n",
       " 'defend',\n",
       " 'racist',\n",
       " 'statements',\n",
       " 'and',\n",
       " 'you',\n",
       " 'use',\n",
       " 'it',\n",
       " 'over',\n",
       " 'and',\n",
       " 'over',\n",
       " 'and',\n",
       " 'over',\n",
       " 'again.',\n",
       " 'Do',\n",
       " 'you',\n",
       " 'really',\n",
       " 'think',\n",
       " 'no',\n",
       " 'one',\n",
       " 'can',\n",
       " 'see',\n",
       " 'through',\n",
       " 'that?',\n",
       " 'People',\n",
       " 'who',\n",
       " \"aren't\",\n",
       " 'racist',\n",
       " 'literally',\n",
       " 'never',\n",
       " 'have',\n",
       " 'to',\n",
       " 'say',\n",
       " 'that',\n",
       " 'phrase',\n",
       " 'because',\n",
       " 'they',\n",
       " \"don'\",\n",
       " 't',\n",
       " 'say',\n",
       " 'racist',\n",
       " 'shit',\n",
       " 'in',\n",
       " 'the',\n",
       " 'first',\n",
       " 'place.']"
      ]
     },
     "execution_count": 4,
     "metadata": {},
     "output_type": "execute_result"
    }
   ],
   "source": [
    "list1=[]\n",
    "new_list=[]\n",
    "a=list(Data['pro_arguments'][4][0].values())[4]\n",
    "d=Data.index\n",
    "\n",
    "lis=Data['pro_arguments'].tolist()\n",
    "for i in lis[4:]:\n",
    "    new=list(i[0].values())\n",
    "    #print(new)\n",
    "    list1=list1+new\n",
    "    #New_list=[len(x) for x in new]\n",
    "New_list=[len(x) for x in list1]\n",
    "#display(New_list)\n",
    "#list1\n",
    "#lis\n",
    "#p=list(lis[4][0].values())\n",
    "#[len(c) for c in p]\n",
    "display(list(lis[4][0].values())[1])\n",
    "list(lis[4][0].values())[1].split()\n"
   ]
  },
  {
   "cell_type": "code",
   "execution_count": 5,
   "id": "e321a685",
   "metadata": {},
   "outputs": [],
   "source": [
    "a=\"\".join(Data['pro_arguments'][4][0].values())"
   ]
  },
  {
   "cell_type": "markdown",
   "id": "b0d51018",
   "metadata": {},
   "source": [
    "## Adding columns for Number of Pro, Con and Total arguments for each topic"
   ]
  },
  {
   "cell_type": "code",
   "execution_count": 6,
   "id": "2098d72b",
   "metadata": {},
   "outputs": [
    {
     "data": {
      "text/plain": [
       "dict_keys(['BLM or if not you are racist.', 'Only the stupid could disagree', 'I support the Black Lives Matter movement.', 'Of course Black Lives Matter', \"If you don't you are racist or ignorant.\", 'Black Lives Matter', 'Black lives matter.', \"Obviously. Why wouldn't they.\", 'Of course black lives matter', 'Black Lives Do Matter.', 'null'])"
      ]
     },
     "execution_count": 6,
     "metadata": {},
     "output_type": "execute_result"
    }
   ],
   "source": [
    "Data['pro_arguments'][4][0].keys()"
   ]
  },
  {
   "cell_type": "code",
   "execution_count": 7,
   "id": "302eff4d",
   "metadata": {},
   "outputs": [
    {
     "data": {
      "text/plain": [
       "10"
      ]
     },
     "execution_count": 7,
     "metadata": {},
     "output_type": "execute_result"
    }
   ],
   "source": [
    "len(Data['pro_arguments'][4][0].keys())-1"
   ]
  },
  {
   "cell_type": "code",
   "execution_count": 8,
   "id": "2b866174",
   "metadata": {},
   "outputs": [],
   "source": [
    "Data['Number of Pro Argummets']=Data['pro_arguments'].apply(lambda x:len(x[0].values())-1)"
   ]
  },
  {
   "cell_type": "code",
   "execution_count": 9,
   "id": "faca2995",
   "metadata": {},
   "outputs": [
    {
     "data": {
      "text/plain": [
       "0    10\n",
       "1    10\n",
       "2     3\n",
       "3    10\n",
       "4    10\n",
       "Name: Number of Pro Argummets, dtype: int64"
      ]
     },
     "execution_count": 9,
     "metadata": {},
     "output_type": "execute_result"
    }
   ],
   "source": [
    "Data['Number of Pro Argummets']"
   ]
  },
  {
   "cell_type": "code",
   "execution_count": 10,
   "id": "0d19d94e",
   "metadata": {},
   "outputs": [],
   "source": [
    "Data['Number of Con Argummets']=Data['con_arguments'].apply(lambda x:len(x[0].values())-1)"
   ]
  },
  {
   "cell_type": "code",
   "execution_count": 11,
   "id": "58443858",
   "metadata": {},
   "outputs": [
    {
     "data": {
      "text/plain": [
       "0     5\n",
       "1    10\n",
       "2     3\n",
       "3    10\n",
       "4    10\n",
       "Name: Number of Con Argummets, dtype: int64"
      ]
     },
     "execution_count": 11,
     "metadata": {},
     "output_type": "execute_result"
    }
   ],
   "source": [
    "Data['Number of Con Argummets']"
   ]
  },
  {
   "cell_type": "code",
   "execution_count": 12,
   "id": "32782c89",
   "metadata": {},
   "outputs": [
    {
     "data": {
      "text/html": [
       "<div>\n",
       "<style scoped>\n",
       "    .dataframe tbody tr th:only-of-type {\n",
       "        vertical-align: middle;\n",
       "    }\n",
       "\n",
       "    .dataframe tbody tr th {\n",
       "        vertical-align: top;\n",
       "    }\n",
       "\n",
       "    .dataframe thead th {\n",
       "        text-align: right;\n",
       "    }\n",
       "</style>\n",
       "<table border=\"1\" class=\"dataframe\">\n",
       "  <thead>\n",
       "    <tr style=\"text-align: right;\">\n",
       "      <th></th>\n",
       "      <th>topic</th>\n",
       "      <th>category</th>\n",
       "      <th>pro_arguments</th>\n",
       "      <th>con_arguments</th>\n",
       "      <th>Number of Pro Argummets</th>\n",
       "      <th>Number of Con Argummets</th>\n",
       "    </tr>\n",
       "  </thead>\n",
       "  <tbody>\n",
       "    <tr>\n",
       "      <th>0</th>\n",
       "      <td>Kirk will always be better than Picard!</td>\n",
       "      <td>TV</td>\n",
       "      <td>[{'How Kirk got his Middle Name, &amp; William Tib...</td>\n",
       "      <td>[{'Buy Adderall Online': 'Buy Adderall Online ...</td>\n",
       "      <td>10</td>\n",
       "      <td>5</td>\n",
       "    </tr>\n",
       "    <tr>\n",
       "      <th>1</th>\n",
       "      <td>Is LGBTQ+ wrong?</td>\n",
       "      <td>Society</td>\n",
       "      <td>[{'LGBTQ+ is Homosexuality and the Bible says ...</td>\n",
       "      <td>[{'No being LGBTQIA+ is not wrong': 'Lets divi...</td>\n",
       "      <td>10</td>\n",
       "      <td>10</td>\n",
       "    </tr>\n",
       "    <tr>\n",
       "      <th>2</th>\n",
       "      <td>Do you agree with the Derek Chauvin   guilty v...</td>\n",
       "      <td>Politics</td>\n",
       "      <td>[{'Mauvin murdered Floyd.': 'If you punch an o...</td>\n",
       "      <td>[{'No. The decision was made under threat of r...</td>\n",
       "      <td>3</td>\n",
       "      <td>3</td>\n",
       "    </tr>\n",
       "    <tr>\n",
       "      <th>3</th>\n",
       "      <td>We should Institute a death penalty for homoph...</td>\n",
       "      <td>Politics</td>\n",
       "      <td>[{'I hate gays': 'The homosexual and it’s cons...</td>\n",
       "      <td>[{'A death penalty can only be justified if th...</td>\n",
       "      <td>10</td>\n",
       "      <td>10</td>\n",
       "    </tr>\n",
       "    <tr>\n",
       "      <th>4</th>\n",
       "      <td>Do you agree with the Black Lives Matter Movem...</td>\n",
       "      <td>Society</td>\n",
       "      <td>[{'BLM or if not you are racist.': 'Isuport it...</td>\n",
       "      <td>[{'All Normal Human Lives Matter, That include...</td>\n",
       "      <td>10</td>\n",
       "      <td>10</td>\n",
       "    </tr>\n",
       "  </tbody>\n",
       "</table>\n",
       "</div>"
      ],
      "text/plain": [
       "                                               topic  category  \\\n",
       "0            Kirk will always be better than Picard!        TV   \n",
       "1                                   Is LGBTQ+ wrong?   Society   \n",
       "2  Do you agree with the Derek Chauvin   guilty v...  Politics   \n",
       "3  We should Institute a death penalty for homoph...  Politics   \n",
       "4  Do you agree with the Black Lives Matter Movem...   Society   \n",
       "\n",
       "                                       pro_arguments  \\\n",
       "0  [{'How Kirk got his Middle Name, & William Tib...   \n",
       "1  [{'LGBTQ+ is Homosexuality and the Bible says ...   \n",
       "2  [{'Mauvin murdered Floyd.': 'If you punch an o...   \n",
       "3  [{'I hate gays': 'The homosexual and it’s cons...   \n",
       "4  [{'BLM or if not you are racist.': 'Isuport it...   \n",
       "\n",
       "                                       con_arguments  Number of Pro Argummets  \\\n",
       "0  [{'Buy Adderall Online': 'Buy Adderall Online ...                       10   \n",
       "1  [{'No being LGBTQIA+ is not wrong': 'Lets divi...                       10   \n",
       "2  [{'No. The decision was made under threat of r...                        3   \n",
       "3  [{'A death penalty can only be justified if th...                       10   \n",
       "4  [{'All Normal Human Lives Matter, That include...                       10   \n",
       "\n",
       "   Number of Con Argummets  \n",
       "0                        5  \n",
       "1                       10  \n",
       "2                        3  \n",
       "3                       10  \n",
       "4                       10  "
      ]
     },
     "execution_count": 12,
     "metadata": {},
     "output_type": "execute_result"
    }
   ],
   "source": [
    "Data"
   ]
  },
  {
   "cell_type": "code",
   "execution_count": 13,
   "id": "27e516c1",
   "metadata": {},
   "outputs": [
    {
     "data": {
      "text/html": [
       "<div>\n",
       "<style scoped>\n",
       "    .dataframe tbody tr th:only-of-type {\n",
       "        vertical-align: middle;\n",
       "    }\n",
       "\n",
       "    .dataframe tbody tr th {\n",
       "        vertical-align: top;\n",
       "    }\n",
       "\n",
       "    .dataframe thead th {\n",
       "        text-align: right;\n",
       "    }\n",
       "</style>\n",
       "<table border=\"1\" class=\"dataframe\">\n",
       "  <thead>\n",
       "    <tr style=\"text-align: right;\">\n",
       "      <th></th>\n",
       "      <th>topic</th>\n",
       "      <th>category</th>\n",
       "      <th>pro_arguments</th>\n",
       "      <th>con_arguments</th>\n",
       "      <th>Number of Pro Argummets</th>\n",
       "      <th>Number of Con Argummets</th>\n",
       "      <th>Total Arguments</th>\n",
       "    </tr>\n",
       "  </thead>\n",
       "  <tbody>\n",
       "    <tr>\n",
       "      <th>0</th>\n",
       "      <td>Kirk will always be better than Picard!</td>\n",
       "      <td>TV</td>\n",
       "      <td>[{'How Kirk got his Middle Name, &amp; William Tib...</td>\n",
       "      <td>[{'Buy Adderall Online': 'Buy Adderall Online ...</td>\n",
       "      <td>10</td>\n",
       "      <td>5</td>\n",
       "      <td>20</td>\n",
       "    </tr>\n",
       "    <tr>\n",
       "      <th>1</th>\n",
       "      <td>Is LGBTQ+ wrong?</td>\n",
       "      <td>Society</td>\n",
       "      <td>[{'LGBTQ+ is Homosexuality and the Bible says ...</td>\n",
       "      <td>[{'No being LGBTQIA+ is not wrong': 'Lets divi...</td>\n",
       "      <td>10</td>\n",
       "      <td>10</td>\n",
       "      <td>20</td>\n",
       "    </tr>\n",
       "    <tr>\n",
       "      <th>2</th>\n",
       "      <td>Do you agree with the Derek Chauvin   guilty v...</td>\n",
       "      <td>Politics</td>\n",
       "      <td>[{'Mauvin murdered Floyd.': 'If you punch an o...</td>\n",
       "      <td>[{'No. The decision was made under threat of r...</td>\n",
       "      <td>3</td>\n",
       "      <td>3</td>\n",
       "      <td>6</td>\n",
       "    </tr>\n",
       "    <tr>\n",
       "      <th>3</th>\n",
       "      <td>We should Institute a death penalty for homoph...</td>\n",
       "      <td>Politics</td>\n",
       "      <td>[{'I hate gays': 'The homosexual and it’s cons...</td>\n",
       "      <td>[{'A death penalty can only be justified if th...</td>\n",
       "      <td>10</td>\n",
       "      <td>10</td>\n",
       "      <td>20</td>\n",
       "    </tr>\n",
       "    <tr>\n",
       "      <th>4</th>\n",
       "      <td>Do you agree with the Black Lives Matter Movem...</td>\n",
       "      <td>Society</td>\n",
       "      <td>[{'BLM or if not you are racist.': 'Isuport it...</td>\n",
       "      <td>[{'All Normal Human Lives Matter, That include...</td>\n",
       "      <td>10</td>\n",
       "      <td>10</td>\n",
       "      <td>20</td>\n",
       "    </tr>\n",
       "  </tbody>\n",
       "</table>\n",
       "</div>"
      ],
      "text/plain": [
       "                                               topic  category  \\\n",
       "0            Kirk will always be better than Picard!        TV   \n",
       "1                                   Is LGBTQ+ wrong?   Society   \n",
       "2  Do you agree with the Derek Chauvin   guilty v...  Politics   \n",
       "3  We should Institute a death penalty for homoph...  Politics   \n",
       "4  Do you agree with the Black Lives Matter Movem...   Society   \n",
       "\n",
       "                                       pro_arguments  \\\n",
       "0  [{'How Kirk got his Middle Name, & William Tib...   \n",
       "1  [{'LGBTQ+ is Homosexuality and the Bible says ...   \n",
       "2  [{'Mauvin murdered Floyd.': 'If you punch an o...   \n",
       "3  [{'I hate gays': 'The homosexual and it’s cons...   \n",
       "4  [{'BLM or if not you are racist.': 'Isuport it...   \n",
       "\n",
       "                                       con_arguments  Number of Pro Argummets  \\\n",
       "0  [{'Buy Adderall Online': 'Buy Adderall Online ...                       10   \n",
       "1  [{'No being LGBTQIA+ is not wrong': 'Lets divi...                       10   \n",
       "2  [{'No. The decision was made under threat of r...                        3   \n",
       "3  [{'A death penalty can only be justified if th...                       10   \n",
       "4  [{'All Normal Human Lives Matter, That include...                       10   \n",
       "\n",
       "   Number of Con Argummets  Total Arguments  \n",
       "0                        5               20  \n",
       "1                       10               20  \n",
       "2                        3                6  \n",
       "3                       10               20  \n",
       "4                       10               20  "
      ]
     },
     "execution_count": 13,
     "metadata": {},
     "output_type": "execute_result"
    }
   ],
   "source": [
    "Data['Total Arguments']=Data['Number of Pro Argummets']+Data['Number of Pro Argummets']\n",
    "Data"
   ]
  },
  {
   "cell_type": "markdown",
   "id": "ebe48b37",
   "metadata": {},
   "source": [
    "## Making dataframe for Number of Arguments per category"
   ]
  },
  {
   "cell_type": "code",
   "execution_count": 14,
   "id": "b70d395c",
   "metadata": {},
   "outputs": [],
   "source": [
    "grouped_Data=Data.groupby(\"category\")['Total Arguments'].sum()"
   ]
  },
  {
   "cell_type": "code",
   "execution_count": 15,
   "id": "bb138824",
   "metadata": {},
   "outputs": [
    {
     "data": {
      "text/plain": [
       "category\n",
       "Politics    26\n",
       "Society     40\n",
       "TV          20\n",
       "Name: Total Arguments, dtype: int64"
      ]
     },
     "execution_count": 15,
     "metadata": {},
     "output_type": "execute_result"
    }
   ],
   "source": [
    "grouped_Data"
   ]
  },
  {
   "cell_type": "markdown",
   "id": "05f5817b",
   "metadata": {},
   "source": [
    "## Plotting length of arguments per category"
   ]
  },
  {
   "cell_type": "code",
   "execution_count": 16,
   "id": "7ada79a2",
   "metadata": {},
   "outputs": [
    {
     "data": {
      "image/png": "[encoded data removed]",
      "text/plain": [
       "<Figure size 1080x504 with 1 Axes>"
      ]
     },
     "metadata": {
      "needs_background": "light"
     },
     "output_type": "display_data"
    }
   ],
   "source": [
    "fig, ax = plt.subplots(figsize=(15,7))\n",
    "bp = Data.groupby('category')['Total Arguments'].sum().plot(kind='bar', ax=ax,width=0.40,fontsize=15)\n",
    "ax.set_title('Number of Arguments per category',fontsize=15)\n",
    "ax.set_ylabel('Number of Arguments',fontsize=15)\n",
    "ax.set_xlabel(\"Category\",fontsize=15)\n",
    "plt.show()"
   ]
  },
  {
   "cell_type": "markdown",
   "id": "aaa5cd80",
   "metadata": {},
   "source": [
    "## Plotting Bar graph for Length of Arguments per topic"
   ]
  },
  {
   "cell_type": "code",
   "execution_count": 17,
   "id": "e8267898",
   "metadata": {},
   "outputs": [],
   "source": [
    "X=list(Data['topic'])"
   ]
  },
  {
   "cell_type": "code",
   "execution_count": 18,
   "id": "372a0796",
   "metadata": {},
   "outputs": [
    {
     "data": {
      "image/png": "[encoded data removed]",
      "text/plain": [
       "<Figure size 1800x720 with 1 Axes>"
      ]
     },
     "metadata": {
      "needs_background": "light"
     },
     "output_type": "display_data"
    }
   ],
   "source": [
    "from matplotlib import ticker\n",
    "fig = plt.figure(figsize = (25,10))\n",
    "\n",
    "plt.bar(X,Data['Total Arguments'])\n",
    "\n",
    "plt.xlabel('Topic',fontsize=20)\n",
    "plt.ylabel('Number of Arguments',fontsize=20)\n",
    "plt.title('Bar Graph for arguments per Topic',fontsize=30)\n",
    "\n",
    "plt.xticks([i for i in range(5)],Data['topic'].tolist(),rotation=90,fontsize=14)\n",
    "plt.yticks(fontsize=20)\n",
    "#plt.legend(['T'],fontsize=20,loc='best')\n",
    "plt.show()"
   ]
  },
  {
   "cell_type": "code",
   "execution_count": 19,
   "id": "a5b38f5c",
   "metadata": {},
   "outputs": [],
   "source": [
    "name=\"avinash, nash, chaurasia, sdsa;, bkjasxbas (avi)\""
   ]
  },
  {
   "cell_type": "code",
   "execution_count": 24,
   "id": "c5a91611",
   "metadata": {},
   "outputs": [
    {
     "data": {
      "text/plain": [
       "['avinash',\n",
       " ',',\n",
       " 'nash',\n",
       " ',',\n",
       " 'chaurasia',\n",
       " ',',\n",
       " 'sdsa',\n",
       " ';,',\n",
       " 'bkjasxbas',\n",
       " '(',\n",
       " 'avi',\n",
       " ')']"
      ]
     },
     "execution_count": 24,
     "metadata": {},
     "output_type": "execute_result"
    }
   ],
   "source": [
    "tokens=nltk.wordpunct_tokenize(name)\n",
    "tokens"
   ]
  },
  {
   "cell_type": "code",
   "execution_count": 23,
   "id": "02728628",
   "metadata": {},
   "outputs": [],
   "source": [
    "#nltk.download('punkt')\n",
    "#from nltk.tokenize import word_tokenize\n",
    "tokens=(name)"
   ]
  },
  {
   "cell_type": "code",
   "execution_count": null,
   "id": "a7bcfb9f",
   "metadata": {},
   "outputs": [],
   "source": [
    "#fig = plt.figure(figsize = (40, 20))\n",
    "#plt.bar(Data['topic'],Data['Number of Con Argummets'],width=0.4)\n",
    "#plt.xlabel('Topic')\n",
    "#plt.ylabel('Number of Con-Arguments')\n",
    "#plt.title('Bar Graph for Con-arguments per Topic')\n",
    "#plt.ax\n",
    "#plt.xticks(Data['topic'],fontsize=15)\n",
    "#plt.tight_layout()\n",
    "#plt.show()"
   ]
  },
  {
   "cell_type": "code",
   "execution_count": null,
   "id": "7f81e14b",
   "metadata": {},
   "outputs": [],
   "source": []
  },
  {
   "cell_type": "code",
   "execution_count": null,
   "id": "2923fce5",
   "metadata": {},
   "outputs": [],
   "source": []
  },
  {
   "cell_type": "code",
   "execution_count": null,
   "id": "d5c946e0",
   "metadata": {},
   "outputs": [],
   "source": []
  },
  {
   "cell_type": "code",
   "execution_count": null,
   "id": "9ae0aa5d",
   "metadata": {},
   "outputs": [],
   "source": []
  }
 ],
 "metadata": {
  "kernelspec": {
   "display_name": "Python 3",
   "language": "python",
   "name": "python3"
  },
  "language_info": {
   "codemirror_mode": {
    "name": "ipython",
    "version": 3
   },
   "file_extension": ".py",
   "mimetype": "text/x-python",
   "name": "python",
   "nbconvert_exporter": "python",
   "pygments_lexer": "ipython3",
   "version": "3.9.4"
  }
 },
 "nbformat": 4,
 "nbformat_minor": 5
}
