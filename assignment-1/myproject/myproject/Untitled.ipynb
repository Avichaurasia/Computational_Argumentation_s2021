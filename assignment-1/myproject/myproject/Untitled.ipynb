{
 "cells": [
  {
   "cell_type": "code",
   "execution_count": 19,
   "id": "e0619d65",
   "metadata": {},
   "outputs": [],
   "source": [
    "a=\"https://www.debate.org/opinions/?sort=popular\""
   ]
  },
  {
   "cell_type": "code",
   "execution_count": 38,
   "id": "2b372331",
   "metadata": {},
   "outputs": [],
   "source": [
    "tag_name=a.split(\"/\")"
   ]
  },
  {
   "cell_type": "code",
   "execution_count": 41,
   "id": "2e22e0da",
   "metadata": {},
   "outputs": [
    {
     "data": {
      "text/plain": [
       "'opinions'"
      ]
     },
     "execution_count": 41,
     "metadata": {},
     "output_type": "execute_result"
    }
   ],
   "source": [
    "tag_name[3]"
   ]
  },
  {
   "cell_type": "code",
   "execution_count": 36,
   "id": "44ce3b4d",
   "metadata": {},
   "outputs": [],
   "source": [
    "new=\"\".join(str(x) for x in tag_name)"
   ]
  },
  {
   "cell_type": "code",
   "execution_count": 37,
   "id": "9e7e1627",
   "metadata": {},
   "outputs": [
    {
     "data": {
      "text/plain": [
       "'opinions?sort=popular'"
      ]
     },
     "execution_count": 37,
     "metadata": {},
     "output_type": "execute_result"
    }
   ],
   "source": [
    "new"
   ]
  },
  {
   "cell_type": "code",
   "execution_count": 1,
   "id": "956297b3",
   "metadata": {},
   "outputs": [],
   "source": [
    "import pandas as pd\n"
   ]
  },
  {
   "cell_type": "code",
   "execution_count": 2,
   "id": "1379a5eb",
   "metadata": {},
   "outputs": [],
   "source": [
    "Data=pd.read_json('crawl.json')"
   ]
  },
  {
   "cell_type": "code",
   "execution_count": 3,
   "id": "3a7b58fd",
   "metadata": {},
   "outputs": [
    {
     "data": {
      "text/html": [
       "<div>\n",
       "<style scoped>\n",
       "    .dataframe tbody tr th:only-of-type {\n",
       "        vertical-align: middle;\n",
       "    }\n",
       "\n",
       "    .dataframe tbody tr th {\n",
       "        vertical-align: top;\n",
       "    }\n",
       "\n",
       "    .dataframe thead th {\n",
       "        text-align: right;\n",
       "    }\n",
       "</style>\n",
       "<table border=\"1\" class=\"dataframe\">\n",
       "  <thead>\n",
       "    <tr style=\"text-align: right;\">\n",
       "      <th></th>\n",
       "      <th>topic</th>\n",
       "      <th>category</th>\n",
       "      <th>pro_arguments</th>\n",
       "      <th>con_arguments</th>\n",
       "    </tr>\n",
       "  </thead>\n",
       "  <tbody>\n",
       "    <tr>\n",
       "      <th>0</th>\n",
       "      <td>Kirk will always be better than Picard!</td>\n",
       "      <td>TV</td>\n",
       "      <td>[{'Shatner &amp; Star Wars in 2021 - continued': '...</td>\n",
       "      <td>[{'Buy Adderall Online': 'Buy Adderall Online ...</td>\n",
       "    </tr>\n",
       "    <tr>\n",
       "      <th>1</th>\n",
       "      <td>Is LGBTQ+ wrong?</td>\n",
       "      <td>Society</td>\n",
       "      <td>[{'LGBTQ+ is Homosexuality and the Bible says ...</td>\n",
       "      <td>[{'No being LGBTQIA+ is not wrong': 'Lets divi...</td>\n",
       "    </tr>\n",
       "    <tr>\n",
       "      <th>2</th>\n",
       "      <td>Do you agree with the Derek Chauvin   guilty v...</td>\n",
       "      <td>Politics</td>\n",
       "      <td>[{'Mauvin murdered Floyd.': 'If you punch an o...</td>\n",
       "      <td>[{'No. The decision was made under threat of r...</td>\n",
       "    </tr>\n",
       "    <tr>\n",
       "      <th>3</th>\n",
       "      <td>We should Institute a death penalty for homoph...</td>\n",
       "      <td>Politics</td>\n",
       "      <td>[{'I hate gays': 'The homosexual and it’s cons...</td>\n",
       "      <td>[{'A death penalty can only be justified if th...</td>\n",
       "    </tr>\n",
       "    <tr>\n",
       "      <th>4</th>\n",
       "      <td>Do you agree with the Black Lives Matter Movem...</td>\n",
       "      <td>Society</td>\n",
       "      <td>[{'BLM or if not you are racist.': 'Isuport it...</td>\n",
       "      <td>[{'All Normal Human Lives Matter, That include...</td>\n",
       "    </tr>\n",
       "  </tbody>\n",
       "</table>\n",
       "</div>"
      ],
      "text/plain": [
       "                                               topic  category  \\\n",
       "0            Kirk will always be better than Picard!        TV   \n",
       "1                                   Is LGBTQ+ wrong?   Society   \n",
       "2  Do you agree with the Derek Chauvin   guilty v...  Politics   \n",
       "3  We should Institute a death penalty for homoph...  Politics   \n",
       "4  Do you agree with the Black Lives Matter Movem...   Society   \n",
       "\n",
       "                                       pro_arguments  \\\n",
       "0  [{'Shatner & Star Wars in 2021 - continued': '...   \n",
       "1  [{'LGBTQ+ is Homosexuality and the Bible says ...   \n",
       "2  [{'Mauvin murdered Floyd.': 'If you punch an o...   \n",
       "3  [{'I hate gays': 'The homosexual and it’s cons...   \n",
       "4  [{'BLM or if not you are racist.': 'Isuport it...   \n",
       "\n",
       "                                       con_arguments  \n",
       "0  [{'Buy Adderall Online': 'Buy Adderall Online ...  \n",
       "1  [{'No being LGBTQIA+ is not wrong': 'Lets divi...  \n",
       "2  [{'No. The decision was made under threat of r...  \n",
       "3  [{'A death penalty can only be justified if th...  \n",
       "4  [{'All Normal Human Lives Matter, That include...  "
      ]
     },
     "execution_count": 3,
     "metadata": {},
     "output_type": "execute_result"
    }
   ],
   "source": [
    "Data"
   ]
  },
  {
   "cell_type": "code",
   "execution_count": 5,
   "id": "f0029bf4",
   "metadata": {},
   "outputs": [
    {
     "data": {
      "text/plain": [
       "[{'Shatner & Star Wars in 2021 - continued': 'The article continues :\"All in all, I wouldn\\'t put any serious stock in the recent statement William Shatner made for May the Fourth. The 90-year-old actor has been plenty busy doing spoken word albums and still offering plenty of support to the Star Trek community. Maybe he will eventually do something with Star Wars, But given all he\\'s into, Even at this stage in his life, I wouldn\\'t expect him to journey too far into the galaxy far, Far away. \"',\n",
       "  'Shatner & Star Wars in 2021': '. . . . From cinemablend. Com an article is Headlined \"Star Trek Legend William Shatner Shows Star Wars Some Love, Gets Fans Hopeful About Joining Franchise\" On May 5, 2021by MICK JOEST      William Shatner on The Big Bang Theory   the article says \"May the 4th has become a revered holiday of sorts for Star Wars fans on the internet, And it\\'s caught on so much to the point that even one of Star Trek\\'s biggest names couldn\\'t resist getting in on the action. William Shatner posted a message showing his support for the franchise, And now there\\'s some hopeful it means he\\'s looking to get involved in the franchise. For those who missed the message, William Shatner\\'s tweet was short and sweet. He wished Star Wars fans well and even included an image that can perhaps best be described as a Boomer meme? I said \"perhaps! \"The message was met with love from both sides of the aisle, Though there seemed to be a few more Star Trek fans who wished to throw some shade at the Star Wars holiday. One fan gently reminded William Shatner that he wasn\\'t part of the franchise, To which the actor quoted Spaceballs in a very interesting way. William Shatner is not a part of the Star Wars franchise, But this jokey tweet implies there\\'s still time for him to get on board. The 90-year-old actor isn\\'t exactly wrong, And given that the Star Wars universe is going full-throttle on television projects, There\\'s no shortage of opportunities for him to potentially join up. (Think of all the random famous people who have played Stormtroopers over the years. ) Could this all be a subtle tease he\\'s about to voice a character in something like Star Wars: The Bad Batch or even appear in a live-action series? Of course, We haven\\'t heard anything about that, But if William Shatner did join the world of Star Wars, He wouldn\\'t be the first Star Trek actor to do so. The likes of Simon Pegg, Brent Spiner, And even Shatner\\'s former co-star George Takei have played parts in both franchises, And there\\'s plenty of room in Hollywood to do both. With that being said, There are certainly some who may see Shatner joining Star Wars as a betrayal, Especially given he\\'s the man largely responsible for the success of Star Trek. I would also wager that are many others who would be completely fine and aren\\'t as militant about aligning themselves with just Star Wars or Star Trek. That said, William Shatner has gone a long time without rejoining Star Trek in any capacity, So I think he could catch some flak for that. \"',\n",
       "  'Where No Gentleman has gone Before': 'On May 5, 2021   heavy. Com has an article headlined \"DeForest Kelley versus Patrick Stewart: Where No Gentleman Has Gone Before\"By Eric Pesola     the article says:\"Through the years of interacting with the thousands of attendees at the various Star Trek conventions, The actors and crew who created the shows have left a mark. Fans have their favorite characters, And they also have their favorite actors — this is not the same thing. A few minutes browsing the boards on TrekBBS will net a person many, Many opinions of what their favorite stars are like in real life. For example, “Halfordgirl” reported that J. G. Hertzler (Martok) “is great” and that “he goes out into the audience in full Klingon costume. ” She also says that Marc Alaimo (Gul Dukat) is also “very nice and a little bit flirty. ”These experiences vary, Of course, And sometimes they are based simply on how many folks the actor has in line to get an autograph or photo. TrekBBS user “M’rk son of Mogh” said that his interaction with William Shatner was “blink and you miss him” thanks to a very long line. Danny Lee Epperson, Life-long Trek fan and media personality says that when he’s met Shatner, It’s always been a thrill. “Over the years I have interviewed and spoken with William Shatner, I’ve known him to be a warm, Kind, Charming, And playful personality, ” said Epperson. “In other words, He is exactly what I had hoped Captain Kirk to be: just one of us. ”     That\\'s what the article says about Shatner & Kirk',\n",
       "  'Sci-Fi Baby Names, Kirk made the list': '. . . On May 4, 2021   romper. Com   has an article headlined \"Get Ready To Geek Out With These 20 Sci-Fi Baby Names\" Feel the force, These names do. By ASHLEY JONES     the article says \"You can draw baby name inspiration from pretty much anywhere. Movies, TV, Books, And comics are all popular sources for baby names, But some fantasy super fans may be more drawn to sci-fi baby names than other trendy pop-culture monikers. While giving your baby a Star Trek-inspired name isn’t a guarantee that they’ll “live long and prosper, ” sci-fi baby names do give parents a lot of fun potential for future birthday party themes, Bedroom decor, And more. A baby name attached to a sci-fi franchise also doesn’t automatically mean your kid will be a super fan, Either. (Just ask the many non-Star Wars-loving Lukes out there. ) But honestly, If you’re a parent and a sci-fi fan, Bestowing a fandom-based name on your kiddo can be just this tiny little sliver of hope that your little one might grow up to be as big of a fan as you are. Popular baby names like Olivia and Noah have their place and all, But I’m sure I’m not the only sci-fi fan who wants to see more Gamoras and Gandlafs. Maybe only mega-fans are really going to name their baby something like Katniss, But there are still plenty of names on this list that are sci-fi adjacent without being totally in-your-face about it. 7KirkDespite the lasting popularity of Captain Kirk among Trekkies, The name hasn’t been in the SSA’s top 1000 popular baby names since 2002. One of my 8-year-old son’s classmates this year is named Kirk, But I have no idea if his parents had Star Trek on in the delivery room, Or if they just chose a name that wasn’t particularly popular around the time he was born. \"        Kirk made the list of 20 Sci-Fi Baby Names, Jean or Jean-Luc   as in Jean-Luc Picard didn\\'t make the list',\n",
       "  'More from the   Smart-energy. Com   article': 'The article continues \"Indeed, A researcher from the China Academy of Space Technology Corporation, Pang Zhihao, Said, According to the US media, A space solar power station held the promise of providing “an inexhaustible source of clean energy for humans”. Can you imagine the potential? Electric cars charged at any time and place. Support for our energy needs on a daily basis regardless of weather conditions. And of course, In a clean, Net-zero way. It does sound like Sci-fi, Also given the fact that writer Isaac Asimov is credited with the idea of space-based solar power projects since 1941 (that’s the year he wrote his short story Reason that explores the topic). However, It is not. Space-based solar power (SBSP) is not a new idea and it involves collecting the sun’s energy while in space and wirelessly transmitting it back to Earth. The SBSP tech uses “solar panels to collect solar energy in space with reflectors of inflatable mirrors that direct solar radiation onto solar panels and then beaming it on Earth through a microwave or laser. The energy is then received on Earth via a microwave antenna” according to a blog post on the website Greenmatch. And it seems like the Chinese scientists are determined to prove the technology right. Between 2021 and 2025, According to an article from The Sydney Morning Herald, They first plan to build small and medium-sized solar power stations and subsequently launch them to the stratosphere to generate electricity. And the next step is to build a Megawatt level space solar power station by 2030. Thus, Probably becoming the first country with an operational solar power station in space that actually produces electricity. And what exactly is the EU doing on the matter? There are some individual projects, Like France’s Eutelsat investment, But nothing anywhere near the Chinese endeavour. This makes me also wonder…   while we, In Europe, Argue about which one is the cheapest, Safest and cleanest source of renewable energy on Earth (hydrogen, Solar, Wind, Nuclear), Did China just changed the game (and its terrain) underneath our noses and is about to leave us all behind? What do you think? Cheers, Areti NtaradimouEditor, Smart Energy International\"',\n",
       "  'NASA & Yet Another Reference to Captain Kirk': 'From the website, Smart-energy. Com     an article on May 4, 2021 \"Ed’s note: Space, The final frontier\"spaceImage credit: NASA\"Last week marked a few milestones in space exploration. Michael Collins, The pilot of the Apollo 11 command module, Which took Neil Armstrong and Buzz Aldrin to the moon for a first stroll, Passed away last Wednesday. Moreover, It was announced that a record of $8. 7 billion was raised by venture capitalists last year, In order to support companies venturing into commercial opportunities from space. Like France’s Eutelsat that invested $550 million in Tesla’s rival, Satellite startup OneWeb. And last, But certainly not least, China launched the first part of its space station, Which is expected to be fully operational by 2022. Why do we care, You ask? Because when it comes to energy, Space might well be the final frontier (to paraphrase Star Trek’s Captain Kirk). Have you read? Powering a Moon villageAccording to a UN report, Even by growing at a slower pace than now, The world population is expected to reach 9. 7 billion by 2050. That is the same year that the EU aims to be climate neutral and enjoy an economy with net-zero greenhouse gas emissions. I am, Of course, Referring to the Green Deal and the Paris Agreement. Given the fact that we still produce about 60% of our electricity by fossil fuels, Such a growth in the Earth’s population sounds scary. And this is also where space comes into play. China has already declared that one of the missions of its space station will be to deliver electricity as soon as 2030. The idea is to create a solar panel station that will absorb the sun’s power 24 hours a day and nearly every day, Which means almost continuous power generation. \"',\n",
       "  'If Picard Stayed Borg, The Worst of Both Worlds -   Part 3': 'The article lastly says \"Another significant difference between the two universes can be found in the presence of Commander Shelby. In the \"Best of Both Worlds\" timeline, Shelby leaves the Enterprise after a short stint to help rebuild the parts of the Federation that the Borg destroyed. But in this timeline, She is still aboard the Enterprise and full of bitter resentment for Captain Riker for not following her lead years ago. After seeing the plight of the crew and the universe, Picard and his crew agree to help rescue Locutus and defeat the Borg. After all, They\\'ve done it once already, And this time they have two ships. Both crews journey to Earth where Locutus is being held. They fight a horde of Borg soldiers and manage to beam back onto the Enterprise with Locutus in tow, But they aren\\'t unscathed, As this universe\\'s Worf died in the battle. Data establishes a neural link to the Locutus and commands all of the Borg soldiers to \"Eat\" at once. This causes them to drain all of their power sources, Thus defeating the Borg empire and freeing Picard. Once Picard has recovered from his time as Locutus, He reveals that he channeled all of humanity\\'s subconscious desire to defeat the Borg to open up a rift between dimensions and summon the other Enterprise. The original crew heads back home through the same dimensional rift, Leaving behind a newly freed, But still wounded universe. While Star Trek: The Next Generation featured plenty of timelines where events played out differently, This stands as one of the darkest turns of events in this iteration of the sci-fi franchise. The Borg were arguably this era\\'s definitive villains, And plenty of Picard\\'s adventures involved trying to stop the Borg from assimilating Earth. While those timelines were only ever glimpsed on the show, This storyline highlighted the immense personal costs of defeat in agonizing detail. \"',\n",
       "  'If Picard Stayed Borg, The Worst of Both Worlds - continued': 'The cbr. Com   article continues \"After their initial fracas, The captain of the alternative Enterprise introduces himself in an effort to make sense of the situation. Where readers might expect to find an alternative Picard, They instead find a haggard, Eye-patch-wearing William T. Riker in his place. Riker explains that in this universe, The Enterprise and humanity lost the battle of the Borg. They were unable to free Picard, Who is still the Locutus to this day. Sadly, Picard wasn\\'t the only crew member they lost. Data, Counselor Troi, Guinan and Keiko all died tragically at the hands of the Borg. Later, Wesley reveals that his mother, Doctor Beverly Crusher, Was most likely assimilated when the Borg got to earth. In fact, In this timeline - 90% of humanity is under the control of the Borg. The tragic results of their confrontation with the Borg has changed the crew, Who are far more bitter and angry than their counterparts. Their sole purpose is to fight the Borg empire. Worf blames himself for not being able to rescue his captain; Geordi La Forge can\\'t even look at the main universe\\'s Data because he is too painful of a reminder of the friend he lost and Comms officer Miles O\\'Brien still grieves the loss of his wife Keiko. There is a particularly heartbreaking moment when O\\'Brien meets the other Keiko and her daughter. This glimpse of the family he might have had, The family another version of him has is clearly too difficult for him to handle. \"',\n",
       "  'If Picard Stayed Borg, The Worst of Both Worlds': 'Cbr. Com on May 4, 2021 has an article headlined \"Star Trek: How the Next Generation Would\\'ve Collapsed If Picard Stayed Borg\"     the article says:Star Trek: TNG\\'s Captain Picard was forever changed by his Borg assimilation, But one comic showed how Locutus could\\'ve doomed the TNG era. BY DUSTIN HOLLANDStar Trek Locutus TNG\"Captain Picard and the crew of the Enterprise have been to the brightest stars and darkest corners of the Star Trek universe. One of their most iconic adventures is depicted across two episodes of Star Trek: The Next Generation entitled \"The Best of Both Worlds. \" The crew has a run-in with the Borg, A race of hive-mind-controlled aliens hellbent on assimilating the universe into their collective. In the special, Picard is captured by the Borg and forced to become Locutus, A sort of living command center. Fortunately for Picard and the people of Earth, The crew of the Enterprise is able to free Picard and stop the Borg before it wipes out the entire Federation and assimilates the entire human race. However, Things didn\\'t end so cleanly in one of Star Trek\\'s many divergent timelines. Writer Michael Jan Friedman and artist Peter Krause explore the answers to these daunting questions in their 1993 Star Trek: The Next Generation storyline \"The Worst of Both Worlds, \" which ran from Star Trek: TNG #47-50. The story begins on the Enterprise years after the events of \"The Best of Both Worlds. \" Picard and crew are on a fairly routine mission to Mardion Three, Which is uncomfortably close to Wolf 359, Where they once fought the Borg. Suddenly, They are pulled into an \"anomaly\" which pulls them into an alternate dimension. Before Picard and Riker can begin to understand what\\'s happened, They encounter a second Enterprise which quickly beams them aboard. Worf\\'s warrior instincts immediately kick in and he lunges at the mysterious people who have taken them onto their ship without permission only to find himself face to face with a version of himself. In fact, Everyone on this ship is a doppelganger of an Enterprise crew member. \"',\n",
       "  'Part 12 of the looper. Com article, Order in Which to Watch the Franchise': 'The Article lastly says \"Picard\"Star Trek: Picard\" is the first of the modern \"Trek\" offerings to look forward rather than back, Giving us a story set after the events of \"Next Generation, \" \"DS9, \" and \"Voyager. \" Indeed, Not only does the series follow up with Jean-Luc Picard 20 years after we last saw him (and 12 years after the Romulan sun went supernova) but it also brings in an older version of Seven of Nine, Once again portrayed by Jeri Ryan. As mentioned, Picard also ties into the most recent installment of \"Short Treks, \" which involves a terrorist attack by synthetic life forms that eventually leads to a ban on their creation — one of the many plot elements of \"Picard\" that has drawn criticism for being inconsistent with the original utopian vision of \"Star Trek. \"With so many new \"Trek\" shows on their way, This list will quickly become outdated. But all the upcoming series will reward previous \"Trek\" viewing, From Janeway\\'s return on \"Star Trek: Prodigy\" to a show focused entirely on Section 31. So if you\\'re going to binge all of \"Star Trek, \" you might want to get started now! \"',\n",
       "  'null': ''}]"
      ]
     },
     "execution_count": 5,
     "metadata": {},
     "output_type": "execute_result"
    }
   ],
   "source": [
    "Data['pro_arguments'][0]"
   ]
  },
  {
   "cell_type": "code",
   "execution_count": null,
   "id": "efa2a003",
   "metadata": {},
   "outputs": [],
   "source": []
  }
 ],
 "metadata": {
  "kernelspec": {
   "display_name": "Python 3",
   "language": "python",
   "name": "python3"
  },
  "language_info": {
   "codemirror_mode": {
    "name": "ipython",
    "version": 3
   },
   "file_extension": ".py",
   "mimetype": "text/x-python",
   "name": "python",
   "nbconvert_exporter": "python",
   "pygments_lexer": "ipython3",
   "version": "3.9.4"
  }
 },
 "nbformat": 4,
 "nbformat_minor": 5
}
